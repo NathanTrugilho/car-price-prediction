{
 "cells": [
  {
   "cell_type": "markdown",
   "id": "39fe2c1c",
   "metadata": {},
   "source": [
    "### Leio o dataset\n",
    "\n",
    "Preferi não dividir em dois arquivos dessa vez"
   ]
  },
  {
   "cell_type": "code",
   "execution_count": null,
   "id": "92daf90e",
   "metadata": {},
   "outputs": [],
   "source": [
    "import pandas as pd\n",
    "\n",
    "df = pd.read_csv(\"dataset/cars_24_combined.csv\")\n",
    "df.head()"
   ]
  },
  {
   "cell_type": "markdown",
   "id": "1245a3fd",
   "metadata": {},
   "source": [
    "### Vejo informações do dataset\n",
    "\n",
    "Com isso, consigo saber o tipo das variáveis independentes"
   ]
  },
  {
   "cell_type": "code",
   "execution_count": null,
   "id": "e2c59de3",
   "metadata": {},
   "outputs": [],
   "source": [
    "df.info()"
   ]
  },
  {
   "cell_type": "markdown",
   "id": "52cc8a19",
   "metadata": {},
   "source": [
    "### Descrevo as variáveis categóricas"
   ]
  },
  {
   "cell_type": "code",
   "execution_count": null,
   "id": "d19bae13",
   "metadata": {},
   "outputs": [],
   "source": [
    "df_categoricas = df[[\"Car Name\",\"Fuel\",\"Location\",\"Drive\",\"Type\"]].astype(str)\n",
    "\n",
    "qtd_unico = df_categoricas.nunique()\n",
    "valores_unicos = df_categoricas.apply(lambda x: x.unique())\n",
    "\n",
    "pd.DataFrame({'Quantidade de valores únicos': qtd_unico, 'Valores únicos': valores_unicos})"
   ]
  },
  {
   "cell_type": "markdown",
   "id": "7aeb0b7b",
   "metadata": {},
   "source": [
    "### Tiro a coluna do Id, Car Name e Location\""
   ]
  },
  {
   "cell_type": "code",
   "execution_count": null,
   "id": "cdb67a95",
   "metadata": {},
   "outputs": [],
   "source": [
    "df = df.drop([\"id\",\"Car Name\",\"Location\"], axis=1)"
   ]
  },
  {
   "cell_type": "markdown",
   "id": "7d38c699",
   "metadata": {},
   "source": [
    "### Faço a One-Hot encoding para variáveis categóricas"
   ]
  },
  {
   "cell_type": "code",
   "execution_count": null,
   "id": "74282ffe",
   "metadata": {},
   "outputs": [],
   "source": [
    "df_encoded = pd.get_dummies(df, columns=[\"Fuel\", \"Drive\", \"Type\"]) # One-Hot encoding \n",
    "\n",
    "df_encoded.drop([\"Fuel_LPG\"], axis=1, inplace=True) # Das 8k linhas só tem um caso que usa esse combustível\n",
    "\n",
    "df_encoded.info()"
   ]
  },
  {
   "cell_type": "code",
   "execution_count": null,
   "id": "b8330cd3",
   "metadata": {},
   "outputs": [],
   "source": [
    "\n",
    "from correlation import show_pearson_correlation\n",
    "\n",
    "x = df_encoded.drop(\"Price\", axis=1)[:-1]\n",
    "y = df_encoded[\"Price\"]\n",
    "\n",
    "show_pearson_correlation(x, y)"
   ]
  },
  {
   "cell_type": "markdown",
   "id": "8e81069a",
   "metadata": {},
   "source": [
    "### Vejo a ocorrência de cada variável categórica"
   ]
  },
  {
   "cell_type": "code",
   "execution_count": null,
   "id": "a490a850",
   "metadata": {},
   "outputs": [],
   "source": [
    "import pandas as pd\n",
    "import seaborn as sns\n",
    "import matplotlib.pyplot as plt\n",
    "\n",
    "# Seleciona colunas com apenas 0 e 1\n",
    "one_hot_cols = [col for col in df_encoded.columns if sorted(df_encoded[col].dropna().unique()) in [[0], [1], [0,1], [1,0]]]\n",
    "\n",
    "n_cols = 5\n",
    "n_rows = (len(one_hot_cols) + n_cols - 1) // n_cols\n",
    "\n",
    "fig, axes = plt.subplots(n_rows, n_cols, figsize=(15,6))\n",
    "axes = axes.flatten()\n",
    "\n",
    "for i, col in enumerate(one_hot_cols):\n",
    "    sns.countplot(x=col, data=df_encoded, ax=axes[i])\n",
    "    axes[i].set_title(col)\n",
    "\n",
    "# remove subplots extras\n",
    "for j in range(i+1, len(axes)):\n",
    "    fig.delaxes(axes[j])\n",
    "\n",
    "plt.tight_layout()\n",
    "plt.show()\n"
   ]
  }
 ],
 "metadata": {
  "kernelspec": {
   "display_name": "Python 3",
   "language": "python",
   "name": "python3"
  },
  "language_info": {
   "codemirror_mode": {
    "name": "ipython",
    "version": 3
   },
   "file_extension": ".py",
   "mimetype": "text/x-python",
   "name": "python",
   "nbconvert_exporter": "python",
   "pygments_lexer": "ipython3",
   "version": "3.13.1"
  }
 },
 "nbformat": 4,
 "nbformat_minor": 5
}
